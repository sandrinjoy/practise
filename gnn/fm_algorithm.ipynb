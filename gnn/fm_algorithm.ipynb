{
 "cells": [
  {
   "cell_type": "code",
   "execution_count": null,
   "metadata": {
    "vscode": {
     "languageId": "plaintext"
    }
   },
   "outputs": [],
   "source": [
    "import hashlib\n",
    "\n",
    "def hash_function(item):\n",
    "    \"\"\"\n",
    "    Hashes an item using SHA-256 and returns an integer representation.\n",
    "    \"\"\"\n",
    "    return int(hashlib.sha256(item.encode('utf-8')).hexdigest(), 16)\n",
    "\n",
    "def count_trailing_zeros(n):\n",
    "    \"\"\"\n",
    "    Counts the number of trailing zeros in the binary representation of a number.\n",
    "    \"\"\"\n",
    "    binary_repr = bin(n)[2:]  # Convert to binary and strip the \"0b\" prefix\n",
    "    return len(binary_repr) - len(binary_repr.rstrip('0'))\n",
    "\n",
    "def maximum_trailing_zeros(data_stream):\n",
    "    \"\"\"\n",
    "    Computes the maximum number of trailing zeros for a hashed data stream.\n",
    "    \"\"\"\n",
    "    max_zeros = 0\n",
    "    for item in data_stream:\n",
    "        hashed_value = hash_function(item)\n",
    "        trailing_zeros = count_trailing_zeros(hashed_value)\n",
    "        max_zeros = max(max_zeros, trailing_zeros)\n",
    "    return max_zeros\n",
    "\n",
    "# Example usage\n",
    "data_stream = [\"apple\", \"banana\", \"cherry\", \"date\", \"elderberry\"]\n",
    "max_zeros = maximum_trailing_zeros(data_stream)\n",
    "print(f\"Maximum trailing zeros: {max_zeros}\")\n"
   ]
  }
 ],
 "metadata": {
  "language_info": {
   "name": "python"
  }
 },
 "nbformat": 4,
 "nbformat_minor": 2
}
